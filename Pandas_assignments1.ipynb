{
 "cells": [
  {
   "cell_type": "markdown",
   "id": "892ad617-8f05-40ae-bb22-f7123f1cbe1a",
   "metadata": {},
   "source": [
    "here are five functions from the pandas library along with their execution:\n",
    "\n",
    "1. **read_csv()**: This function is used to read a CSV file and create a DataFrame object¹.\n",
    "    ```python\n",
    "    import pandas as pd\n",
    "    # Read the CSV file and create a DataFrame\n",
    "    df = pd.read_csv('data.csv')\n",
    "    # Print the DataFrame\n",
    "    print(df)\n",
    "    ```\n",
    "\n",
    "2. **head()**: This function is used to display the first few rows of a DataFrame¹.\n",
    "    ```python\n",
    "    import pandas as pd\n",
    "    # Create a DataFrame\n",
    "    df = pd.DataFrame({'A': [1, 2, 3], 'B': [4, 5, 6]})\n",
    "    # Display the first 2 rows of the DataFrame\n",
    "    print(df.head(2))\n",
    "    ```\n",
    "\n",
    "#3**groupby()**: This function is used to group the rows of a DataFrame based on one or more columns, and then apply an aggregation function to each group¹.\n",
    "    \n",
    "    import pandas as pd\n",
    "    # Create a DataFrame\n",
    "    df = pd.DataFrame({'A': [1, 2, 1, 2], 'B': [4, 5, 6, 7]})\n",
    "    # Group the DataFrame by column 'A' and calculate the mean of column 'B' for each group\n",
    "    grouped = df.groupby('A').mean()\n",
    "    # Print the grouped DataFrame\n",
    "    print(grouped)\n",
    "    ```\n",
    "\n",
    "#4. **fillna()**: This function is used to fill missing values in a DataFrame with a specified value or method¹.\n",
    "   \n",
    "    import pandas as pd\n",
    "    import numpy as np\n",
    "    # Create a DataFrame with missing values\n",
    "    df = pd.DataFrame({'A': [1, np.nan, 3], 'B': [4, 5, np.nan]})\n",
    "    # Fill the missing values with 0\n",
    "    filled = df.fillna(0)\n",
    "    # Print the filled DataFrame\n",
    "    print(filled)\n",
    "    ```\n",
    "\n",
    "#5. ##**pivot_table()**: This function is used to create a pivot table from a DataFrame¹.\n",
    "   \n",
    "    import pandas as pd\n",
    "    # Create a DataFrame\n",
    "    df = pd.DataFrame({'A': ['foo', 'foo', 'bar', 'bar'], 'B': ['one', 'two', 'one', 'two'], 'C': [1, 2, 3, 4]})\n",
    "    # Create a pivot table that shows the mean of column 'C' for each combination of 'A' and 'B'\n",
    "    pivot = df.pivot_table(values='C', index='A', columns='B', aggfunc='mean')\n",
    "    # Print the pivot table\n",
    "    print(pivot)\n",
    "    "
   ]
  },
  {
   "cell_type": "code",
   "execution_count": 1,
   "id": "760dfdc7-233d-4032-ab09-bc3865155228",
   "metadata": {},
   "outputs": [
    {
     "name": "stdout",
     "output_type": "stream",
     "text": [
      "   A  B  C\n",
      "1  1  4  7\n",
      "3  2  5  8\n",
      "5  3  6  9\n"
     ]
    }
   ],
   "source": [
    "#Ans2 .\n",
    "import pandas as pd\n",
    "import numpy as np\n",
    "\n",
    "# Define a function to re-index a DataFrame\n",
    "def reindex_df(df):\n",
    "    # Create a new index that starts from 1 and increments by 2 for each row\n",
    "    new_index = np.arange(1, 2*len(df)+1, 2)\n",
    "    # Set the new index\n",
    "    df.set_index(new_index, inplace=True)\n",
    "    return df\n",
    "\n",
    "# Create a DataFrame\n",
    "df = pd.DataFrame({'A': [1, 2, 3], 'B': [4, 5, 6], 'C': [7, 8, 9]})\n",
    "\n",
    "# Re-index the DataFrame\n",
    "df = reindex_df(df)\n",
    "\n",
    "# Print the DataFrame\n",
    "print(df)\n"
   ]
  },
  {
   "cell_type": "code",
   "execution_count": 2,
   "id": "a700c20a-8d9b-4c97-926f-34dddd1541ef",
   "metadata": {},
   "outputs": [],
   "source": [
    "#Ans 3.\n",
    "\n",
    "df = pd.DataFrame({'Values': [10,20,30,40,50,60]})"
   ]
  },
  {
   "cell_type": "code",
   "execution_count": 3,
   "id": "c65aedd1-d6d8-43d5-9fd3-0b367368ca4d",
   "metadata": {},
   "outputs": [
    {
     "data": {
      "text/html": [
       "<div>\n",
       "<style scoped>\n",
       "    .dataframe tbody tr th:only-of-type {\n",
       "        vertical-align: middle;\n",
       "    }\n",
       "\n",
       "    .dataframe tbody tr th {\n",
       "        vertical-align: top;\n",
       "    }\n",
       "\n",
       "    .dataframe thead th {\n",
       "        text-align: right;\n",
       "    }\n",
       "</style>\n",
       "<table border=\"1\" class=\"dataframe\">\n",
       "  <thead>\n",
       "    <tr style=\"text-align: right;\">\n",
       "      <th></th>\n",
       "      <th>Values</th>\n",
       "    </tr>\n",
       "  </thead>\n",
       "  <tbody>\n",
       "    <tr>\n",
       "      <th>0</th>\n",
       "      <td>10</td>\n",
       "    </tr>\n",
       "    <tr>\n",
       "      <th>1</th>\n",
       "      <td>20</td>\n",
       "    </tr>\n",
       "    <tr>\n",
       "      <th>2</th>\n",
       "      <td>30</td>\n",
       "    </tr>\n",
       "    <tr>\n",
       "      <th>3</th>\n",
       "      <td>40</td>\n",
       "    </tr>\n",
       "    <tr>\n",
       "      <th>4</th>\n",
       "      <td>50</td>\n",
       "    </tr>\n",
       "    <tr>\n",
       "      <th>5</th>\n",
       "      <td>60</td>\n",
       "    </tr>\n",
       "  </tbody>\n",
       "</table>\n",
       "</div>"
      ],
      "text/plain": [
       "   Values\n",
       "0      10\n",
       "1      20\n",
       "2      30\n",
       "3      40\n",
       "4      50\n",
       "5      60"
      ]
     },
     "execution_count": 3,
     "metadata": {},
     "output_type": "execute_result"
    }
   ],
   "source": [
    "df"
   ]
  },
  {
   "cell_type": "code",
   "execution_count": 4,
   "id": "9383bdb0-47d8-47e9-bba9-bf82d70752f7",
   "metadata": {},
   "outputs": [],
   "source": [
    "def sum_first_three(df):\n",
    "    if 'Values' in df.columns:\n",
    "        if len(df['Values']) >=3:\n",
    "            total = df['Values'].iloc[:3].sum()\n",
    "            print(\"The sum of first three values is \" , total)\n",
    "        else:\n",
    "            print(\"The 'Values' column has less than three values.\")"
   ]
  },
  {
   "cell_type": "code",
   "execution_count": 5,
   "id": "58fcf45c-ebba-4463-aa1a-bdc35722c2ab",
   "metadata": {},
   "outputs": [
    {
     "name": "stdout",
     "output_type": "stream",
     "text": [
      "The sum of first three values is  60\n"
     ]
    }
   ],
   "source": [
    "sum_first_three(df)"
   ]
  },
  {
   "cell_type": "code",
   "execution_count": 6,
   "id": "4f2bf702-7b66-4dea-9567-db55c4fe5efe",
   "metadata": {},
   "outputs": [],
   "source": [
    "#Ans4\n",
    "pd.set_option(\"display.max_colwidth\" , 1000)\n",
    "df1 = pd.DataFrame({\"Text\": [\"This market will be settled after the completion of the tournament. If a tournament is abandoned, then bets will be void. In the event of an abandoned match/matches, the non-runner allocation will be applied to this market for settlement purposes. The non-runner allocation will only apply to completely abandoned matches and not to reduced matches.\" , \"My name is Bishu\" , \"This is my test and learing pandas for data science.\"]})"
   ]
  },
  {
   "cell_type": "code",
   "execution_count": 7,
   "id": "9f2dfa55-294b-4718-9d98-9509862ff396",
   "metadata": {},
   "outputs": [],
   "source": [
    "df1[\"word_count\"]= df1['Text'].apply(lambda x : len(x.split()))"
   ]
  },
  {
   "cell_type": "code",
   "execution_count": 8,
   "id": "7950e445-d48c-446a-8ece-8f12dd8b3b73",
   "metadata": {},
   "outputs": [
    {
     "data": {
      "text/html": [
       "<div>\n",
       "<style scoped>\n",
       "    .dataframe tbody tr th:only-of-type {\n",
       "        vertical-align: middle;\n",
       "    }\n",
       "\n",
       "    .dataframe tbody tr th {\n",
       "        vertical-align: top;\n",
       "    }\n",
       "\n",
       "    .dataframe thead th {\n",
       "        text-align: right;\n",
       "    }\n",
       "</style>\n",
       "<table border=\"1\" class=\"dataframe\">\n",
       "  <thead>\n",
       "    <tr style=\"text-align: right;\">\n",
       "      <th></th>\n",
       "      <th>Text</th>\n",
       "      <th>word_count</th>\n",
       "    </tr>\n",
       "  </thead>\n",
       "  <tbody>\n",
       "    <tr>\n",
       "      <th>0</th>\n",
       "      <td>This market will be settled after the completion of the tournament. If a tournament is abandoned, then bets will be void. In the event of an abandoned match/matches, the non-runner allocation will be applied to this market for settlement purposes. The non-runner allocation will only apply to completely abandoned matches and not to reduced matches.</td>\n",
       "      <td>55</td>\n",
       "    </tr>\n",
       "    <tr>\n",
       "      <th>1</th>\n",
       "      <td>My name is Bishu</td>\n",
       "      <td>4</td>\n",
       "    </tr>\n",
       "    <tr>\n",
       "      <th>2</th>\n",
       "      <td>This is my test and learing pandas for data science.</td>\n",
       "      <td>10</td>\n",
       "    </tr>\n",
       "  </tbody>\n",
       "</table>\n",
       "</div>"
      ],
      "text/plain": [
       "                                                                                                                                                                                                                                                                                                                                                            Text  \\\n",
       "0  This market will be settled after the completion of the tournament. If a tournament is abandoned, then bets will be void. In the event of an abandoned match/matches, the non-runner allocation will be applied to this market for settlement purposes. The non-runner allocation will only apply to completely abandoned matches and not to reduced matches.   \n",
       "1                                                                                                                                                                                                                                                                                                                                               My name is Bishu   \n",
       "2                                                                                                                                                                                                                                                                                                           This is my test and learing pandas for data science.   \n",
       "\n",
       "   word_count  \n",
       "0          55  \n",
       "1           4  \n",
       "2          10  "
      ]
     },
     "execution_count": 8,
     "metadata": {},
     "output_type": "execute_result"
    }
   ],
   "source": [
    "df1"
   ]
  },
  {
   "cell_type": "markdown",
   "id": "b0da056b-9c57-4a8a-a772-395628a8f617",
   "metadata": {},
   "source": [
    "#Ans5\n",
    "In pandas, `DataFrame.size` and `DataFrame.shape` are two properties that give information about the size of a DataFrame, but they provide different types of information:\n",
    "\n",
    "- **DataFrame.size**: This property returns the total number of elements in the DataFrame. That is, it returns the number of rows times the number of columns¹². For example, if you have a DataFrame with 5 rows and 3 columns, `DataFrame.size` will return 15¹².\n",
    "\n",
    "    ```python\n",
    "    import pandas as pd\n",
    "    df = pd.DataFrame({'A': range(5), 'B': range(5), 'C': range(5)})\n",
    "    print(df.size)  # Output: 15\n",
    "    ```\n",
    "\n",
    "- **DataFrame.shape**: This property returns a tuple representing the dimensions of the DataFrame¹²³. The first element of the tuple is the number of rows and the second element is the number of columns¹²³. For example, if you have a DataFrame with 5 rows and 3 columns, `DataFrame.shape` will return `(5, 3)'.\n",
    "\n",
    "    ```python\n",
    "    import pandas as pd\n",
    "    df = pd.DataFrame({'A': range(5), 'B': range(5), 'C': range(5)})\n",
    "    print(df.shape)  # Output: (5, 3)\n",
    "    ```\n",
    "\n",
    "So, while `DataFrame.size` gives you the total number of elements in the DataFrame, `DataFrame.shape` gives you the number of rows and columns."
   ]
  },
  {
   "cell_type": "code",
   "execution_count": 10,
   "id": "18ffce60-f6d8-4dbb-a641-549afa7b8232",
   "metadata": {},
   "outputs": [
    {
     "name": "stdout",
     "output_type": "stream",
     "text": [
      "      | Number | Hook                                     | Option 1   | Option 2  | Option 3    | Answer    |\n",
      "0     |--------|------------------------------------------|------------|-----------|-------------|-----------|\n",
      "1     | 1      | I speak without a mouth and hear...      | Wind       | Echo      | Sound waves | Echo      |\n",
      "2     | 2      | The more you take, the more you leave    | Footsteps  | Memories  | Steps       | Footsteps |\n",
      "3    | 3      | I have keys but open no locks             | Piano      | Keyboard  | Typewriter  | Piano     |\n",
      "4    | 4      | The person who makes it, sells it...      | Coffin     | Shoes     | Bread       | Coffin    |\n",
      "5    | 5      | What has a heart that doesn't beat?       | Artichoke  | Clock     | Tomato      | Artichoke |\n",
      "6    | 6      | The more you feed it, the more...         | Fire       | Baby      | Dog         | Fire      |\n",
      "7    | 7      | What comes once in a minute...            | Letter 'M' | Hour      | Day         | Letter 'M'|\n",
      "8   | 8      | The more you take, the more you...         | Breath     | Pictures  | Breaks      | Pictures  |\n",
      "9   | 9      | I'm tall when I'm young...                 | Candle     | Tree      | Book        | Candle    |\n",
      "10  | 10     | The one who makes it sells it...           | Shoe       | Hat       | Coffin      | Coffin    |\n",
      "11  | 11     | I can be cracked, made, told...            | Joke       | Egg       | Window      | Joke      |\n",
      "12  | 12     | The more you take, the more you...         | Holes      | Memories  | Silence     | Silence   |\n",
      "13  | 13     | What has keys but can't open locks?        | Piano      | Keyboard  | Door        | Piano     |\n",
      "14  | 14     | I can fly without wings...                 | Cloud      | Plane     | Time        | Time      |\n",
      "15  | 15     | The one who speaks it doesn't know...      | Secret     | Language  | Whisper     | Secret    |\n",
      "16  | 16     | The longer I sit, the taller I get...      | Candle     | Chair     | Flower      | Candle    |\n",
      "17  | 17     | What has an endless supply of letters?     | Mailbox    | Book      | Alphabet    | Mailbox   |\n",
      "18  | 18     | I can be cracked, made, told, and...       | Joke       | Egg       | Smile       | Smile     |\n",
      "19  | 19     | The more you take, the more you...         | Steps      | Air       | Time        | Time      |\n",
      "20  | 20     | I have keys but no locks...                | Keyboard   | Piano     | Guitar      | Keyboard  |\n",
      "21   | 21     | I'm light as a feather, yet the...        | Breath     | Cloud     | Feather     | Breath    |\n",
      "22  | 22     | What has a heart that doesn't beat?        | Artichoke  | Clock     | Tomato      | Artichoke |\n",
      "23  | 23     | The more you take, the more you...         | Footsteps  | Silence   | Echo        | Silence   |\n",
      "24  | 24     | What has a head, a tail, is brown...       | Penny      | Snake     | Chocolate   | Penny     |\n",
      "25  | 25     | What begins and has no end?                | Circle     | Time      | Journey     | Circle    |\n",
      "26  | 26     | The one who makes it sells it...           | Coffin     | Shoes     | Bread       | Coffin    |\n",
      "27  | 27     | What has a neck but no head?               | Bottle     | Snake     | Shirt       | Bottle    |\n",
      "28  | 28     | The more you take, the more you...         | Knowledge  | Money     | Sleep       | Knowledge |\n"
     ]
    }
   ],
   "source": [
    "## Ans 6 \n",
    "\n",
    "import pandas as pd\n",
    "\n",
    "# Read the Excel file and create a DataFrame\n",
    "df = pd.read_excel('puzzle.xlsx')\n",
    "\n",
    "# Print the DataFrame\n",
    "print(df)\n"
   ]
  },
  {
   "cell_type": "code",
   "execution_count": 11,
   "id": "f77e2188-644d-4272-8f9c-5d07f5945239",
   "metadata": {},
   "outputs": [],
   "source": [
    "## Ans 7 : \n",
    "Email_data = pd.DataFrame({'Email_id': ['jacob@xyz.com', 'kat@gmail.com', 'keish@xyz.com']})"
   ]
  },
  {
   "cell_type": "code",
   "execution_count": 18,
   "id": "3a2f7469-7717-481e-8541-6f0a86b2e894",
   "metadata": {},
   "outputs": [],
   "source": [
    "Email_data['Username']= Email_data['Email_id'].str.split('@').str[0]"
   ]
  },
  {
   "cell_type": "code",
   "execution_count": 19,
   "id": "1779a3cc-25bf-47cb-9990-f3d97643aa21",
   "metadata": {},
   "outputs": [
    {
     "data": {
      "text/html": [
       "<div>\n",
       "<style scoped>\n",
       "    .dataframe tbody tr th:only-of-type {\n",
       "        vertical-align: middle;\n",
       "    }\n",
       "\n",
       "    .dataframe tbody tr th {\n",
       "        vertical-align: top;\n",
       "    }\n",
       "\n",
       "    .dataframe thead th {\n",
       "        text-align: right;\n",
       "    }\n",
       "</style>\n",
       "<table border=\"1\" class=\"dataframe\">\n",
       "  <thead>\n",
       "    <tr style=\"text-align: right;\">\n",
       "      <th></th>\n",
       "      <th>Email_id</th>\n",
       "      <th>Username</th>\n",
       "    </tr>\n",
       "  </thead>\n",
       "  <tbody>\n",
       "    <tr>\n",
       "      <th>0</th>\n",
       "      <td>jacob@xyz.com</td>\n",
       "      <td>jacob</td>\n",
       "    </tr>\n",
       "    <tr>\n",
       "      <th>1</th>\n",
       "      <td>kat@gmail.com</td>\n",
       "      <td>kat</td>\n",
       "    </tr>\n",
       "    <tr>\n",
       "      <th>2</th>\n",
       "      <td>keish@xyz.com</td>\n",
       "      <td>keish</td>\n",
       "    </tr>\n",
       "  </tbody>\n",
       "</table>\n",
       "</div>"
      ],
      "text/plain": [
       "        Email_id Username\n",
       "0  jacob@xyz.com    jacob\n",
       "1  kat@gmail.com      kat\n",
       "2  keish@xyz.com    keish"
      ]
     },
     "execution_count": 19,
     "metadata": {},
     "output_type": "execute_result"
    }
   ],
   "source": [
    "Email_data"
   ]
  },
  {
   "cell_type": "code",
   "execution_count": 22,
   "id": "75694bd2-6640-4ec3-80bf-6ef1dd3774b4",
   "metadata": {},
   "outputs": [],
   "source": [
    "## Ans 8 :\n",
    "\n",
    "df2= pd.DataFrame({'A': [3,8,6,2,9],\n",
    "                  'B': [5,2,9,3,1],\n",
    "                  'C': [1,7,4,5,2]})"
   ]
  },
  {
   "cell_type": "code",
   "execution_count": 23,
   "id": "940c0645-126d-43bc-bd13-5b51c1b0962b",
   "metadata": {},
   "outputs": [
    {
     "data": {
      "text/html": [
       "<div>\n",
       "<style scoped>\n",
       "    .dataframe tbody tr th:only-of-type {\n",
       "        vertical-align: middle;\n",
       "    }\n",
       "\n",
       "    .dataframe tbody tr th {\n",
       "        vertical-align: top;\n",
       "    }\n",
       "\n",
       "    .dataframe thead th {\n",
       "        text-align: right;\n",
       "    }\n",
       "</style>\n",
       "<table border=\"1\" class=\"dataframe\">\n",
       "  <thead>\n",
       "    <tr style=\"text-align: right;\">\n",
       "      <th></th>\n",
       "      <th>A</th>\n",
       "      <th>B</th>\n",
       "      <th>C</th>\n",
       "    </tr>\n",
       "  </thead>\n",
       "  <tbody>\n",
       "    <tr>\n",
       "      <th>0</th>\n",
       "      <td>3</td>\n",
       "      <td>5</td>\n",
       "      <td>1</td>\n",
       "    </tr>\n",
       "    <tr>\n",
       "      <th>1</th>\n",
       "      <td>8</td>\n",
       "      <td>2</td>\n",
       "      <td>7</td>\n",
       "    </tr>\n",
       "    <tr>\n",
       "      <th>2</th>\n",
       "      <td>6</td>\n",
       "      <td>9</td>\n",
       "      <td>4</td>\n",
       "    </tr>\n",
       "    <tr>\n",
       "      <th>3</th>\n",
       "      <td>2</td>\n",
       "      <td>3</td>\n",
       "      <td>5</td>\n",
       "    </tr>\n",
       "    <tr>\n",
       "      <th>4</th>\n",
       "      <td>9</td>\n",
       "      <td>1</td>\n",
       "      <td>2</td>\n",
       "    </tr>\n",
       "  </tbody>\n",
       "</table>\n",
       "</div>"
      ],
      "text/plain": [
       "   A  B  C\n",
       "0  3  5  1\n",
       "1  8  2  7\n",
       "2  6  9  4\n",
       "3  2  3  5\n",
       "4  9  1  2"
      ]
     },
     "execution_count": 23,
     "metadata": {},
     "output_type": "execute_result"
    }
   ],
   "source": [
    "df2"
   ]
  },
  {
   "cell_type": "code",
   "execution_count": 47,
   "id": "d2af6987-54e3-49ed-ad7b-95b8c1f6c19c",
   "metadata": {},
   "outputs": [],
   "source": [
    "def selected_rows(df2):\n",
    "    selected_rows = df2[(df2['A']>5) & (df2['B'] <10)]\n",
    "    \n",
    "    \n",
    "    return selected_rows\n",
    "                         \n",
    "                         \n",
    "                         "
   ]
  },
  {
   "cell_type": "code",
   "execution_count": 48,
   "id": "7f91a1bd-b463-40c9-a3ec-0f505f4d7191",
   "metadata": {},
   "outputs": [],
   "source": [
    "new_row = selected_rows(df2)"
   ]
  },
  {
   "cell_type": "code",
   "execution_count": 49,
   "id": "86aa2440-328a-40dd-9d6f-52397d264d98",
   "metadata": {},
   "outputs": [
    {
     "data": {
      "text/html": [
       "<div>\n",
       "<style scoped>\n",
       "    .dataframe tbody tr th:only-of-type {\n",
       "        vertical-align: middle;\n",
       "    }\n",
       "\n",
       "    .dataframe tbody tr th {\n",
       "        vertical-align: top;\n",
       "    }\n",
       "\n",
       "    .dataframe thead th {\n",
       "        text-align: right;\n",
       "    }\n",
       "</style>\n",
       "<table border=\"1\" class=\"dataframe\">\n",
       "  <thead>\n",
       "    <tr style=\"text-align: right;\">\n",
       "      <th></th>\n",
       "      <th>A</th>\n",
       "      <th>B</th>\n",
       "      <th>C</th>\n",
       "    </tr>\n",
       "  </thead>\n",
       "  <tbody>\n",
       "    <tr>\n",
       "      <th>1</th>\n",
       "      <td>8</td>\n",
       "      <td>2</td>\n",
       "      <td>7</td>\n",
       "    </tr>\n",
       "    <tr>\n",
       "      <th>2</th>\n",
       "      <td>6</td>\n",
       "      <td>9</td>\n",
       "      <td>4</td>\n",
       "    </tr>\n",
       "    <tr>\n",
       "      <th>4</th>\n",
       "      <td>9</td>\n",
       "      <td>1</td>\n",
       "      <td>2</td>\n",
       "    </tr>\n",
       "  </tbody>\n",
       "</table>\n",
       "</div>"
      ],
      "text/plain": [
       "   A  B  C\n",
       "1  8  2  7\n",
       "2  6  9  4\n",
       "4  9  1  2"
      ]
     },
     "execution_count": 49,
     "metadata": {},
     "output_type": "execute_result"
    }
   ],
   "source": [
    "new_row"
   ]
  },
  {
   "cell_type": "code",
   "execution_count": 51,
   "id": "4bb9d037-feaa-4801-97aa-06b3b9054f42",
   "metadata": {},
   "outputs": [],
   "source": [
    "#Ans9  \n",
    "Cal = pd.DataFrame({'A': [3,8,6,2,9]})"
   ]
  },
  {
   "cell_type": "code",
   "execution_count": 52,
   "id": "9d5c7b82-7372-4d55-9647-2344dea6e124",
   "metadata": {},
   "outputs": [
    {
     "data": {
      "text/html": [
       "<div>\n",
       "<style scoped>\n",
       "    .dataframe tbody tr th:only-of-type {\n",
       "        vertical-align: middle;\n",
       "    }\n",
       "\n",
       "    .dataframe tbody tr th {\n",
       "        vertical-align: top;\n",
       "    }\n",
       "\n",
       "    .dataframe thead th {\n",
       "        text-align: right;\n",
       "    }\n",
       "</style>\n",
       "<table border=\"1\" class=\"dataframe\">\n",
       "  <thead>\n",
       "    <tr style=\"text-align: right;\">\n",
       "      <th></th>\n",
       "      <th>A</th>\n",
       "    </tr>\n",
       "  </thead>\n",
       "  <tbody>\n",
       "    <tr>\n",
       "      <th>0</th>\n",
       "      <td>3</td>\n",
       "    </tr>\n",
       "    <tr>\n",
       "      <th>1</th>\n",
       "      <td>8</td>\n",
       "    </tr>\n",
       "    <tr>\n",
       "      <th>2</th>\n",
       "      <td>6</td>\n",
       "    </tr>\n",
       "    <tr>\n",
       "      <th>3</th>\n",
       "      <td>2</td>\n",
       "    </tr>\n",
       "    <tr>\n",
       "      <th>4</th>\n",
       "      <td>9</td>\n",
       "    </tr>\n",
       "  </tbody>\n",
       "</table>\n",
       "</div>"
      ],
      "text/plain": [
       "   A\n",
       "0  3\n",
       "1  8\n",
       "2  6\n",
       "3  2\n",
       "4  9"
      ]
     },
     "execution_count": 52,
     "metadata": {},
     "output_type": "execute_result"
    }
   ],
   "source": [
    "Cal"
   ]
  },
  {
   "cell_type": "code",
   "execution_count": 54,
   "id": "16c275d2-89a9-4454-944e-7953a2dc0332",
   "metadata": {},
   "outputs": [
    {
     "data": {
      "text/plain": [
       "5.6"
      ]
     },
     "execution_count": 54,
     "metadata": {},
     "output_type": "execute_result"
    }
   ],
   "source": [
    "Cal['A'].mean()"
   ]
  },
  {
   "cell_type": "code",
   "execution_count": 55,
   "id": "74f5729f-a749-4ef9-b2fa-f518932377bf",
   "metadata": {},
   "outputs": [
    {
     "data": {
      "text/plain": [
       "6.0"
      ]
     },
     "execution_count": 55,
     "metadata": {},
     "output_type": "execute_result"
    }
   ],
   "source": [
    "Cal['A'].median()"
   ]
  },
  {
   "cell_type": "code",
   "execution_count": 56,
   "id": "2cbcee69-8294-49cd-ab8d-d120e52025b9",
   "metadata": {},
   "outputs": [
    {
     "data": {
      "text/plain": [
       "0    2\n",
       "1    3\n",
       "2    6\n",
       "3    8\n",
       "4    9\n",
       "Name: A, dtype: int64"
      ]
     },
     "execution_count": 56,
     "metadata": {},
     "output_type": "execute_result"
    }
   ],
   "source": [
    "Cal['A'].mode()"
   ]
  },
  {
   "cell_type": "code",
   "execution_count": 57,
   "id": "65b85e69-6071-4b4c-ab98-d48fc15d4c7c",
   "metadata": {},
   "outputs": [
    {
     "data": {
      "text/plain": [
       "3.0495901363953815"
      ]
     },
     "execution_count": 57,
     "metadata": {},
     "output_type": "execute_result"
    }
   ],
   "source": [
    "Cal['A'].std()"
   ]
  },
  {
   "cell_type": "code",
   "execution_count": 89,
   "id": "b6ebecc5-50c6-4c60-9ae5-ecfe273b028b",
   "metadata": {},
   "outputs": [
    {
     "name": "stdout",
     "output_type": "stream",
     "text": [
      "        Date  Sales  MovingAverage\n",
      "0 2023-01-01     10           10.0\n",
      "1 2023-01-02     20           15.0\n",
      "2 2023-01-03     30           20.0\n",
      "3 2023-01-04     40           25.0\n",
      "4 2023-01-05     50           30.0\n",
      "5 2023-01-06     60           35.0\n",
      "6 2023-01-07     70           40.0\n",
      "7 2023-01-08     80           50.0\n",
      "8 2023-01-09     90           60.0\n",
      "9 2023-01-10    100           70.0\n"
     ]
    }
   ],
   "source": [
    "##Ans 10 \n",
    "\n",
    "import pandas as pd\n",
    "\n",
    "def add_moving_average(df):\n",
    "    # Convert 'Date' to datetime\n",
    "    df['Date'] = pd.to_datetime(df['Date'])\n",
    "    \n",
    "    # Sort by 'Date'\n",
    "    df = df.sort_values('Date')\n",
    "    \n",
    "    # Calculate moving average of 'Sales' with window size 7\n",
    "    df['MovingAverage'] = df['Sales'].rolling(window=7, min_periods=1).mean()\n",
    "    \n",
    "    return df\n",
    "# Create a DataFrame\n",
    "df = pd.DataFrame({\n",
    "    'Date': pd.date_range(start='2023-01-01', periods=10),\n",
    "    'Sales': [10, 20, 30, 40, 50, 60, 70, 80, 90, 100]\n",
    "})\n",
    "\n",
    "# Use the function\n",
    "new_df = add_moving_average(df)\n",
    "\n",
    "# Print the new DataFrame\n",
    "print(new_df)\n"
   ]
  },
  {
   "cell_type": "code",
   "execution_count": 79,
   "id": "d7ea49a2-b0bb-4279-aca5-9b458f43e38b",
   "metadata": {},
   "outputs": [],
   "source": [
    "#Ans 11\n",
    "Date =  pd.date_range( start = '2023-01-01' , end = '2023-01-05')"
   ]
  },
  {
   "cell_type": "code",
   "execution_count": 80,
   "id": "63e7bba0-eea9-4cdc-9cba-a69b64285d05",
   "metadata": {},
   "outputs": [
    {
     "data": {
      "text/plain": [
       "DatetimeIndex(['2023-01-01', '2023-01-02', '2023-01-03', '2023-01-04',\n",
       "               '2023-01-05'],\n",
       "              dtype='datetime64[ns]', freq='D')"
      ]
     },
     "execution_count": 80,
     "metadata": {},
     "output_type": "execute_result"
    }
   ],
   "source": [
    "Date "
   ]
  },
  {
   "cell_type": "code",
   "execution_count": 81,
   "id": "11b6a827-a967-434a-b297-5e51c668e2f7",
   "metadata": {},
   "outputs": [],
   "source": [
    "df_date = pd.DataFrame({'Date': Date})"
   ]
  },
  {
   "cell_type": "code",
   "execution_count": 82,
   "id": "b88b2100-a428-4721-87c5-d018ac3ca198",
   "metadata": {},
   "outputs": [
    {
     "data": {
      "text/html": [
       "<div>\n",
       "<style scoped>\n",
       "    .dataframe tbody tr th:only-of-type {\n",
       "        vertical-align: middle;\n",
       "    }\n",
       "\n",
       "    .dataframe tbody tr th {\n",
       "        vertical-align: top;\n",
       "    }\n",
       "\n",
       "    .dataframe thead th {\n",
       "        text-align: right;\n",
       "    }\n",
       "</style>\n",
       "<table border=\"1\" class=\"dataframe\">\n",
       "  <thead>\n",
       "    <tr style=\"text-align: right;\">\n",
       "      <th></th>\n",
       "      <th>Date</th>\n",
       "    </tr>\n",
       "  </thead>\n",
       "  <tbody>\n",
       "    <tr>\n",
       "      <th>0</th>\n",
       "      <td>2023-01-01</td>\n",
       "    </tr>\n",
       "    <tr>\n",
       "      <th>1</th>\n",
       "      <td>2023-01-02</td>\n",
       "    </tr>\n",
       "    <tr>\n",
       "      <th>2</th>\n",
       "      <td>2023-01-03</td>\n",
       "    </tr>\n",
       "    <tr>\n",
       "      <th>3</th>\n",
       "      <td>2023-01-04</td>\n",
       "    </tr>\n",
       "    <tr>\n",
       "      <th>4</th>\n",
       "      <td>2023-01-05</td>\n",
       "    </tr>\n",
       "  </tbody>\n",
       "</table>\n",
       "</div>"
      ],
      "text/plain": [
       "        Date\n",
       "0 2023-01-01\n",
       "1 2023-01-02\n",
       "2 2023-01-03\n",
       "3 2023-01-04\n",
       "4 2023-01-05"
      ]
     },
     "execution_count": 82,
     "metadata": {},
     "output_type": "execute_result"
    }
   ],
   "source": [
    "df_date"
   ]
  },
  {
   "cell_type": "code",
   "execution_count": 83,
   "id": "cd1bce94-fcf3-4616-acdb-48d12deae7ff",
   "metadata": {},
   "outputs": [],
   "source": [
    "df_date['Updated_date']= pd.to_datetime(df_date['Date'])"
   ]
  },
  {
   "cell_type": "code",
   "execution_count": 84,
   "id": "0c36a2d8-2b4a-4518-8e9f-74a106bea372",
   "metadata": {},
   "outputs": [
    {
     "data": {
      "text/plain": [
       "Date            datetime64[ns]\n",
       "Updated_date    datetime64[ns]\n",
       "dtype: object"
      ]
     },
     "execution_count": 84,
     "metadata": {},
     "output_type": "execute_result"
    }
   ],
   "source": [
    "df_date.dtypes"
   ]
  },
  {
   "cell_type": "code",
   "execution_count": 85,
   "id": "7aa2b92a-d29e-447c-a49d-62a2e1013768",
   "metadata": {},
   "outputs": [],
   "source": [
    "df_date['weekday'] = df_date['Updated_date'].dt.day_name()"
   ]
  },
  {
   "cell_type": "code",
   "execution_count": 86,
   "id": "6e8bb6ed-f890-45c2-9b54-2fac21a69365",
   "metadata": {},
   "outputs": [
    {
     "data": {
      "text/html": [
       "<div>\n",
       "<style scoped>\n",
       "    .dataframe tbody tr th:only-of-type {\n",
       "        vertical-align: middle;\n",
       "    }\n",
       "\n",
       "    .dataframe tbody tr th {\n",
       "        vertical-align: top;\n",
       "    }\n",
       "\n",
       "    .dataframe thead th {\n",
       "        text-align: right;\n",
       "    }\n",
       "</style>\n",
       "<table border=\"1\" class=\"dataframe\">\n",
       "  <thead>\n",
       "    <tr style=\"text-align: right;\">\n",
       "      <th></th>\n",
       "      <th>Date</th>\n",
       "      <th>Updated_date</th>\n",
       "      <th>weekday</th>\n",
       "    </tr>\n",
       "  </thead>\n",
       "  <tbody>\n",
       "    <tr>\n",
       "      <th>0</th>\n",
       "      <td>2023-01-01</td>\n",
       "      <td>2023-01-01</td>\n",
       "      <td>Sunday</td>\n",
       "    </tr>\n",
       "    <tr>\n",
       "      <th>1</th>\n",
       "      <td>2023-01-02</td>\n",
       "      <td>2023-01-02</td>\n",
       "      <td>Monday</td>\n",
       "    </tr>\n",
       "    <tr>\n",
       "      <th>2</th>\n",
       "      <td>2023-01-03</td>\n",
       "      <td>2023-01-03</td>\n",
       "      <td>Tuesday</td>\n",
       "    </tr>\n",
       "    <tr>\n",
       "      <th>3</th>\n",
       "      <td>2023-01-04</td>\n",
       "      <td>2023-01-04</td>\n",
       "      <td>Wednesday</td>\n",
       "    </tr>\n",
       "    <tr>\n",
       "      <th>4</th>\n",
       "      <td>2023-01-05</td>\n",
       "      <td>2023-01-05</td>\n",
       "      <td>Thursday</td>\n",
       "    </tr>\n",
       "  </tbody>\n",
       "</table>\n",
       "</div>"
      ],
      "text/plain": [
       "        Date Updated_date    weekday\n",
       "0 2023-01-01   2023-01-01     Sunday\n",
       "1 2023-01-02   2023-01-02     Monday\n",
       "2 2023-01-03   2023-01-03    Tuesday\n",
       "3 2023-01-04   2023-01-04  Wednesday\n",
       "4 2023-01-05   2023-01-05   Thursday"
      ]
     },
     "execution_count": 86,
     "metadata": {},
     "output_type": "execute_result"
    }
   ],
   "source": [
    "df_date"
   ]
  },
  {
   "cell_type": "code",
   "execution_count": 90,
   "id": "04dad3f8-2f34-4944-a02e-0f4d41d533af",
   "metadata": {},
   "outputs": [
    {
     "name": "stdout",
     "output_type": "stream",
     "text": [
      "         Date\n",
      "31 2023-01-01\n",
      "32 2023-01-02\n",
      "33 2023-01-03\n",
      "34 2023-01-04\n",
      "35 2023-01-05\n",
      "36 2023-01-06\n",
      "37 2023-01-07\n",
      "38 2023-01-08\n",
      "39 2023-01-09\n",
      "40 2023-01-10\n",
      "41 2023-01-11\n",
      "42 2023-01-12\n",
      "43 2023-01-13\n",
      "44 2023-01-14\n",
      "45 2023-01-15\n",
      "46 2023-01-16\n",
      "47 2023-01-17\n",
      "48 2023-01-18\n",
      "49 2023-01-19\n",
      "50 2023-01-20\n",
      "51 2023-01-21\n",
      "52 2023-01-22\n",
      "53 2023-01-23\n",
      "54 2023-01-24\n",
      "55 2023-01-25\n",
      "56 2023-01-26\n",
      "57 2023-01-27\n",
      "58 2023-01-28\n",
      "59 2023-01-29\n",
      "60 2023-01-30\n",
      "61 2023-01-31\n",
      "         Date\n",
      "31 2023-01-01\n",
      "32 2023-01-02\n",
      "33 2023-01-03\n",
      "34 2023-01-04\n",
      "35 2023-01-05\n",
      "36 2023-01-06\n",
      "37 2023-01-07\n",
      "38 2023-01-08\n",
      "39 2023-01-09\n",
      "40 2023-01-10\n",
      "41 2023-01-11\n",
      "42 2023-01-12\n",
      "43 2023-01-13\n",
      "44 2023-01-14\n",
      "45 2023-01-15\n",
      "46 2023-01-16\n",
      "47 2023-01-17\n",
      "48 2023-01-18\n",
      "49 2023-01-19\n",
      "50 2023-01-20\n",
      "51 2023-01-21\n",
      "52 2023-01-22\n",
      "53 2023-01-23\n",
      "54 2023-01-24\n",
      "55 2023-01-25\n",
      "56 2023-01-26\n",
      "57 2023-01-27\n",
      "58 2023-01-28\n",
      "59 2023-01-29\n",
      "60 2023-01-30\n",
      "61 2023-01-31\n"
     ]
    }
   ],
   "source": [
    "##Ans 12 \n",
    "import pandas as pd\n",
    "\n",
    "def select_rows(df):\n",
    "    # Convert 'Date' to datetime\n",
    "    df['Date'] = pd.to_datetime(df['Date'])\n",
    "    \n",
    "    # Select rows where 'Date' is between '2023-01-01' and '2023-01-31'\n",
    "    selected_rows = df[(df['Date'] >= '2023-01-01') & (df['Date'] <= '2023-01-31')]\n",
    "    \n",
    "    return selected_rows\n",
    "# Create a DataFrame\n",
    "df = pd.DataFrame({\n",
    "    'Date': pd.date_range(start='2022-12-01', end='2023-02-01')\n",
    "})\n",
    "\n",
    "# Use the function\n",
    "new_df = select_rows(df)\n",
    "\n",
    "# Print the new DataFrame\n",
    "print(new_df)\n",
    "\n",
    "# Create a DataFrame\n",
    "df = pd.DataFrame({\n",
    "    'Date': pd.date_range(start='2022-12-01', end='2023-02-01')\n",
    "})\n",
    "\n",
    "# Use the function\n",
    "new_df = select_rows(df)\n",
    "\n",
    "# Print the new DataFrame\n",
    "print(new_df)\n"
   ]
  },
  {
   "cell_type": "markdown",
   "id": "3efa64e8-e2bf-486e-a34c-3be84c3eb64e",
   "metadata": {},
   "source": [
    "##Ans 13\n",
    "import pandas as pd\n",
    "pd is a common alias used for pandas. After running this line of code, you can access the pandas functions using the pd prefix. For example, pd.DataFrame() creates a new pandas DataFrame. Remember to replace pd with your actual pandas alias if you used a different alias when importing pandas. The function returns the modified DataFrame with the selected rows. "
   ]
  },
  {
   "cell_type": "code",
   "execution_count": null,
   "id": "60264360-fb63-4761-af1d-ce452c30ad59",
   "metadata": {},
   "outputs": [],
   "source": []
  }
 ],
 "metadata": {
  "kernelspec": {
   "display_name": "Python 3 (ipykernel)",
   "language": "python",
   "name": "python3"
  },
  "language_info": {
   "codemirror_mode": {
    "name": "ipython",
    "version": 3
   },
   "file_extension": ".py",
   "mimetype": "text/x-python",
   "name": "python",
   "nbconvert_exporter": "python",
   "pygments_lexer": "ipython3",
   "version": "3.10.8"
  }
 },
 "nbformat": 4,
 "nbformat_minor": 5
}
